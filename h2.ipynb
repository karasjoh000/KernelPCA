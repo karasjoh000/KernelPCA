{
 "nbformat": 4,
 "nbformat_minor": 2,
 "metadata": {
  "language_info": {
   "name": "python",
   "codemirror_mode": {
    "name": "ipython",
    "version": 2
   },
   "version": "3.7.6-final"
  },
  "orig_nbformat": 2,
  "file_extension": ".py",
  "mimetype": "text/x-python",
  "name": "python",
  "npconvert_exporter": "python",
  "pygments_lexer": "ipython2",
  "version": 2,
  "kernelspec": {
   "name": "python37664bit8b44d20e5d7445d299ff3240765a35b5",
   "display_name": "Python 3.7.6 64-bit"
  }
 },
 "cells": [
  {
   "cell_type": "code",
   "execution_count": 1,
   "metadata": {},
   "outputs": [],
   "source": [
    "import tensorflow as tf \n",
    "import numpy as np \n",
    "import matplotlib.pyplot as plt\n",
    "import tensorflow_probability as tfp\n",
    "import math \n",
    "import idx2numpy\n",
    "import pandas as pd\n",
    "import random\n",
    "%matplotlib inline"
   ]
  },
  {
   "cell_type": "code",
   "execution_count": 2,
   "metadata": {},
   "outputs": [],
   "source": [
    "# load the data \n",
    "train_x = idx2numpy.convert_from_file('./data/train-images-idx3-ubyte').astype(float)\n",
    "train_y = idx2numpy.convert_from_file('./data/train-labels-idx1-ubyte').astype(float)\n",
    "test_x = idx2numpy.convert_from_file('./data/t10k-images-idx3-ubyte').astype(float)\n",
    "test_y = idx2numpy.convert_from_file('./data/t10k-labels-idx1-ubyte').astype(float)"
   ]
  },
  {
   "cell_type": "code",
   "execution_count": 3,
   "metadata": {},
   "outputs": [
    {
     "data": {
      "image/png": "[encoded data removed]",
      "image/svg+xml": "<?xml version=\"1.0\" encoding=\"utf-8\" standalone=\"no\"?>\n<!DOCTYPE svg PUBLIC \"-//W3C//DTD SVG 1.1//EN\"\n  \"http://www.w3.org/Graphics/SVG/1.1/DTD/svg11.dtd\">\n<!-- Created with matplotlib (https://matplotlib.org/) -->\n<svg height=\"248.518125pt\" version=\"1.1\" viewBox=\"0 0 251.565 248.518125\" width=\"251.565pt\" xmlns=\"http://www.w3.org/2000/svg\" xmlns:xlink=\"http://www.w3.org/1999/xlink\">\n <defs>\n  <style type=\"text/css\">\n*{stroke-linecap:butt;stroke-linejoin:round;}\n  </style>\n </defs>\n <g id=\"figure_1\">\n  <g id=\"patch_1\">\n   <path d=\"M 0 248.518125 \nL 251.565 248.518125 \nL 251.565 0 \nL 0 0 \nz\n\" style=\"fill:none;\"/>\n  </g>\n  <g id=\"axes_1\">\n   <g id=\"patch_2\">\n    <path d=\"M 26.925 224.64 \nL 244.365 224.64 \nL 244.365 7.2 \nL 26.925 7.2 \nz\n\" style=\"fill:#ffffff;\"/>\n   </g>\n   <g clip-path=\"url(#paaffaa7338)\">\n    <image height=\"218\" id=\"image5965e3443f\" transform=\"scale(1 -1)translate(0 -218)\" width=\"218\" x=\"26.925\" xlink:href=\"data:image/png;base64,\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\" y=\"-6.64\"/>\n   </g>\n   <g id=\"matplotlib.axis_1\">\n    <g id=\"xtick_1\">\n     <g id=\"line2d_1\">\n      <defs>\n       <path d=\"M 0 0 \nL 0 3.5 \n\" id=\"mfb63100735\" style=\"stroke:#000000;stroke-width:0.8;\"/>\n      </defs>\n      <g>\n       <use style=\"stroke:#000000;stroke-width:0.8;\" x=\"30.807857\" xlink:href=\"#mfb63100735\" y=\"224.64\"/>\n      </g>\n     </g>\n     <g id=\"text_1\">\n      <!-- 0 -->\n      <defs>\n       <path d=\"M 31.78125 66.40625 \nQ 24.171875 66.40625 20.328125 58.90625 \nQ 16.5 51.421875 16.5 36.375 \nQ 16.5 21.390625 20.328125 13.890625 \nQ 24.171875 6.390625 31.78125 6.390625 \nQ 39.453125 6.390625 43.28125 13.890625 \nQ 47.125 21.390625 47.125 36.375 \nQ 47.125 51.421875 43.28125 58.90625 \nQ 39.453125 66.40625 31.78125 66.40625 \nz\nM 31.78125 74.21875 \nQ 44.046875 74.21875 50.515625 64.515625 \nQ 56.984375 54.828125 56.984375 36.375 \nQ 56.984375 17.96875 50.515625 8.265625 \nQ 44.046875 -1.421875 31.78125 -1.421875 \nQ 19.53125 -1.421875 13.0625 8.265625 \nQ 6.59375 17.96875 6.59375 36.375 \nQ 6.59375 54.828125 13.0625 64.515625 \nQ 19.53125 74.21875 31.78125 74.21875 \nz\n\" id=\"DejaVuSans-48\"/>\n      </defs>\n      <g transform=\"translate(27.626607 239.238437)scale(0.1 -0.1)\">\n       <use xlink:href=\"#DejaVuSans-48\"/>\n      </g>\n     </g>\n    </g>\n    <g id=\"xtick_2\">\n     <g id=\"line2d_2\">\n      <g>\n       <use style=\"stroke:#000000;stroke-width:0.8;\" x=\"69.636429\" xlink:href=\"#mfb63100735\" y=\"224.64\"/>\n      </g>\n     </g>\n     <g id=\"text_2\">\n      <!-- 5 -->\n      <defs>\n       <path d=\"M 10.796875 72.90625 \nL 49.515625 72.90625 \nL 49.515625 64.59375 \nL 19.828125 64.59375 \nL 19.828125 46.734375 \nQ 21.96875 47.46875 24.109375 47.828125 \nQ 26.265625 48.1875 28.421875 48.1875 \nQ 40.625 48.1875 47.75 41.5 \nQ 54.890625 34.8125 54.890625 23.390625 \nQ 54.890625 11.625 47.5625 5.09375 \nQ 40.234375 -1.421875 26.90625 -1.421875 \nQ 22.3125 -1.421875 17.546875 -0.640625 \nQ 12.796875 0.140625 7.71875 1.703125 \nL 7.71875 11.625 \nQ 12.109375 9.234375 16.796875 8.0625 \nQ 21.484375 6.890625 26.703125 6.890625 \nQ 35.15625 6.890625 40.078125 11.328125 \nQ 45.015625 15.765625 45.015625 23.390625 \nQ 45.015625 31 40.078125 35.4375 \nQ 35.15625 39.890625 26.703125 39.890625 \nQ 22.75 39.890625 18.8125 39.015625 \nQ 14.890625 38.140625 10.796875 36.28125 \nz\n\" id=\"DejaVuSans-53\"/>\n      </defs>\n      <g transform=\"translate(66.455179 239.238437)scale(0.1 -0.1)\">\n       <use xlink:href=\"#DejaVuSans-53\"/>\n      </g>\n     </g>\n    </g>\n    <g id=\"xtick_3\">\n     <g id=\"line2d_3\">\n      <g>\n       <use style=\"stroke:#000000;stroke-width:0.8;\" x=\"108.465\" xlink:href=\"#mfb63100735\" y=\"224.64\"/>\n      </g>\n     </g>\n     <g id=\"text_3\">\n      <!-- 10 -->\n      <defs>\n       <path d=\"M 12.40625 8.296875 \nL 28.515625 8.296875 \nL 28.515625 63.921875 \nL 10.984375 60.40625 \nL 10.984375 69.390625 \nL 28.421875 72.90625 \nL 38.28125 72.90625 \nL 38.28125 8.296875 \nL 54.390625 8.296875 \nL 54.390625 0 \nL 12.40625 0 \nz\n\" id=\"DejaVuSans-49\"/>\n      </defs>\n      <g transform=\"translate(102.1025 239.238437)scale(0.1 -0.1)\">\n       <use xlink:href=\"#DejaVuSans-49\"/>\n       <use x=\"63.623047\" xlink:href=\"#DejaVuSans-48\"/>\n      </g>\n     </g>\n    </g>\n    <g id=\"xtick_4\">\n     <g id=\"line2d_4\">\n      <g>\n       <use style=\"stroke:#000000;stroke-width:0.8;\" x=\"147.293571\" xlink:href=\"#mfb63100735\" y=\"224.64\"/>\n      </g>\n     </g>\n     <g id=\"text_4\">\n      <!-- 15 -->\n      <g transform=\"translate(140.931071 239.238437)scale(0.1 -0.1)\">\n       <use xlink:href=\"#DejaVuSans-49\"/>\n       <use x=\"63.623047\" xlink:href=\"#DejaVuSans-53\"/>\n      </g>\n     </g>\n    </g>\n    <g id=\"xtick_5\">\n     <g id=\"line2d_5\">\n      <g>\n       <use style=\"stroke:#000000;stroke-width:0.8;\" x=\"186.122143\" xlink:href=\"#mfb63100735\" y=\"224.64\"/>\n      </g>\n     </g>\n     <g id=\"text_5\">\n      <!-- 20 -->\n      <defs>\n       <path d=\"M 19.1875 8.296875 \nL 53.609375 8.296875 \nL 53.609375 0 \nL 7.328125 0 \nL 7.328125 8.296875 \nQ 12.9375 14.109375 22.625 23.890625 \nQ 32.328125 33.6875 34.8125 36.53125 \nQ 39.546875 41.84375 41.421875 45.53125 \nQ 43.3125 49.21875 43.3125 52.78125 \nQ 43.3125 58.59375 39.234375 62.25 \nQ 35.15625 65.921875 28.609375 65.921875 \nQ 23.96875 65.921875 18.8125 64.3125 \nQ 13.671875 62.703125 7.8125 59.421875 \nL 7.8125 69.390625 \nQ 13.765625 71.78125 18.9375 73 \nQ 24.125 74.21875 28.421875 74.21875 \nQ 39.75 74.21875 46.484375 68.546875 \nQ 53.21875 62.890625 53.21875 53.421875 \nQ 53.21875 48.921875 51.53125 44.890625 \nQ 49.859375 40.875 45.40625 35.40625 \nQ 44.1875 33.984375 37.640625 27.21875 \nQ 31.109375 20.453125 19.1875 8.296875 \nz\n\" id=\"DejaVuSans-50\"/>\n      </defs>\n      <g transform=\"translate(179.759643 239.238437)scale(0.1 -0.1)\">\n       <use xlink:href=\"#DejaVuSans-50\"/>\n       <use x=\"63.623047\" xlink:href=\"#DejaVuSans-48\"/>\n      </g>\n     </g>\n    </g>\n    <g id=\"xtick_6\">\n     <g id=\"line2d_6\">\n      <g>\n       <use style=\"stroke:#000000;stroke-width:0.8;\" x=\"224.950714\" xlink:href=\"#mfb63100735\" y=\"224.64\"/>\n      </g>\n     </g>\n     <g id=\"text_6\">\n      <!-- 25 -->\n      <g transform=\"translate(218.588214 239.238437)scale(0.1 -0.1)\">\n       <use xlink:href=\"#DejaVuSans-50\"/>\n       <use x=\"63.623047\" xlink:href=\"#DejaVuSans-53\"/>\n      </g>\n     </g>\n    </g>\n   </g>\n   <g id=\"matplotlib.axis_2\">\n    <g id=\"ytick_1\">\n     <g id=\"line2d_7\">\n      <defs>\n       <path d=\"M 0 0 \nL -3.5 0 \n\" id=\"madf40f971f\" style=\"stroke:#000000;stroke-width:0.8;\"/>\n      </defs>\n      <g>\n       <use style=\"stroke:#000000;stroke-width:0.8;\" x=\"26.925\" xlink:href=\"#madf40f971f\" y=\"11.082857\"/>\n      </g>\n     </g>\n     <g id=\"text_7\">\n      <!-- 0 -->\n      <g transform=\"translate(13.5625 14.882076)scale(0.1 -0.1)\">\n       <use xlink:href=\"#DejaVuSans-48\"/>\n      </g>\n     </g>\n    </g>\n    <g id=\"ytick_2\">\n     <g id=\"line2d_8\">\n      <g>\n       <use style=\"stroke:#000000;stroke-width:0.8;\" x=\"26.925\" xlink:href=\"#madf40f971f\" y=\"49.911429\"/>\n      </g>\n     </g>\n     <g id=\"text_8\">\n      <!-- 5 -->\n      <g transform=\"translate(13.5625 53.710647)scale(0.1 -0.1)\">\n       <use xlink:href=\"#DejaVuSans-53\"/>\n      </g>\n     </g>\n    </g>\n    <g id=\"ytick_3\">\n     <g id=\"line2d_9\">\n      <g>\n       <use style=\"stroke:#000000;stroke-width:0.8;\" x=\"26.925\" xlink:href=\"#madf40f971f\" y=\"88.74\"/>\n      </g>\n     </g>\n     <g id=\"text_9\">\n      <!-- 10 -->\n      <g transform=\"translate(7.2 92.539219)scale(0.1 -0.1)\">\n       <use xlink:href=\"#DejaVuSans-49\"/>\n       <use x=\"63.623047\" xlink:href=\"#DejaVuSans-48\"/>\n      </g>\n     </g>\n    </g>\n    <g id=\"ytick_4\">\n     <g id=\"line2d_10\">\n      <g>\n       <use style=\"stroke:#000000;stroke-width:0.8;\" x=\"26.925\" xlink:href=\"#madf40f971f\" y=\"127.568571\"/>\n      </g>\n     </g>\n     <g id=\"text_10\">\n      <!-- 15 -->\n      <g transform=\"translate(7.2 131.36779)scale(0.1 -0.1)\">\n       <use xlink:href=\"#DejaVuSans-49\"/>\n       <use x=\"63.623047\" xlink:href=\"#DejaVuSans-53\"/>\n      </g>\n     </g>\n    </g>\n    <g id=\"ytick_5\">\n     <g id=\"line2d_11\">\n      <g>\n       <use style=\"stroke:#000000;stroke-width:0.8;\" x=\"26.925\" xlink:href=\"#madf40f971f\" y=\"166.397143\"/>\n      </g>\n     </g>\n     <g id=\"text_11\">\n      <!-- 20 -->\n      <g transform=\"translate(7.2 170.196362)scale(0.1 -0.1)\">\n       <use xlink:href=\"#DejaVuSans-50\"/>\n       <use x=\"63.623047\" xlink:href=\"#DejaVuSans-48\"/>\n      </g>\n     </g>\n    </g>\n    <g id=\"ytick_6\">\n     <g id=\"line2d_12\">\n      <g>\n       <use style=\"stroke:#000000;stroke-width:0.8;\" x=\"26.925\" xlink:href=\"#madf40f971f\" y=\"205.225714\"/>\n      </g>\n     </g>\n     <g id=\"text_12\">\n      <!-- 25 -->\n      <g transform=\"translate(7.2 209.024933)scale(0.1 -0.1)\">\n       <use xlink:href=\"#DejaVuSans-50\"/>\n       <use x=\"63.623047\" xlink:href=\"#DejaVuSans-53\"/>\n      </g>\n     </g>\n    </g>\n   </g>\n   <g id=\"patch_3\">\n    <path d=\"M 26.925 224.64 \nL 26.925 7.2 \n\" style=\"fill:none;stroke:#000000;stroke-linecap:square;stroke-linejoin:miter;stroke-width:0.8;\"/>\n   </g>\n   <g id=\"patch_4\">\n    <path d=\"M 244.365 224.64 \nL 244.365 7.2 \n\" style=\"fill:none;stroke:#000000;stroke-linecap:square;stroke-linejoin:miter;stroke-width:0.8;\"/>\n   </g>\n   <g id=\"patch_5\">\n    <path d=\"M 26.925 224.64 \nL 244.365 224.64 \n\" style=\"fill:none;stroke:#000000;stroke-linecap:square;stroke-linejoin:miter;stroke-width:0.8;\"/>\n   </g>\n   <g id=\"patch_6\">\n    <path d=\"M 26.925 7.2 \nL 244.365 7.2 \n\" style=\"fill:none;stroke:#000000;stroke-linecap:square;stroke-linejoin:miter;stroke-width:0.8;\"/>\n   </g>\n  </g>\n </g>\n <defs>\n  <clipPath id=\"paaffaa7338\">\n   <rect height=\"217.44\" width=\"217.44\" x=\"26.925\" y=\"7.2\"/>\n  </clipPath>\n </defs>\n</svg>\n",
      "text/plain": "<Figure size 432x288 with 1 Axes>"
     },
     "metadata": {
      "needs_background": "light"
     },
     "output_type": "display_data"
    }
   ],
   "source": [
    "plt.imshow(train_x[0,:])\n",
    "plt.show()"
   ]
  },
  {
   "cell_type": "code",
   "execution_count": 4,
   "metadata": {},
   "outputs": [],
   "source": [
    "def createmvn(kernel_matrix): \n",
    "    mu, cov = np.zeros(tf.shape(kernel).numpy()[0]), kernel #tf.linalg.inv(kernel)"
   ]
  },
  {
   "cell_type": "code",
   "execution_count": 5,
   "metadata": {},
   "outputs": [],
   "source": [
    "# Section 1 Question 2\n",
    "# Sampling from a centered kernel. \n",
    "\n",
    "def create_kernel_matrix(kernelfunc, data):  \n",
    "    return myarray(data.shape[0], lambda i, j: kernelfunc(data[int(i)] , data[int(j)])) \n",
    "\n",
    "\n",
    "\n",
    "def sampleRKHS(kernelfunc, data, ssize=12, center=True, rkhs_range=(-4,4), func_precision=100, diag_add=1e-6):\n",
    "    \"\"\"\n",
    "    kernelfunc - lambda func that defines the kernel matrix of size dsize x dsize\n",
    "    dsize - number of elements in the original dataset. \n",
    "    ssize - sample size, how many functions from RKHS to sample\n",
    "    rkhs_range - what range to display the RKHS functions on\n",
    "    func_precision - how many points to genereate in the rkhs_range (to draw lines) i.e resolution of lines\n",
    "\n",
    "    returns X, Y -> X: domain values with shape(func_precision, ssize) Y: y values sampled RKHS functions \n",
    "    shape(func_precision, ssize) each col represents x and y values of each sampled function. \n",
    "    \"\"\"\n",
    "    K = create_kernel_matrix(kernelfunc, data) \n",
    "    if center:  \n",
    "        IU = np.identity(data.shape[0]) - np.full((data.shape[0], data.shape[0]), 1 / data.shape[0])\n",
    "        K = np.matmul(IU, np.matmul(K, IU))\n",
    "    K += np.identity(data.shape[0]) * diag_add\n",
    "\n",
    "\n",
    "    mvn = create_normal_distribution(K) \n",
    "    xi = np.linspace(rkhs_range[0], rkhs_range[1], func_precision) # this will be the domain we will be looking at of the RKHS space. \n",
    "\n",
    "    # create a matrix that will store the domains of the sampled value (linespace).\n",
    "    # each column will be the same since we are analyzing them in the same domain.  \n",
    "    y = np.reshape(xi.T, (xi.shape[0], 1)) # create a transpose of x (since each col will represent the points we are eval at)\n",
    "    X_f = y\n",
    "    X_k = y\n",
    "    for i in range (0, ssize - 1): # range == # of datums in original dataset. \n",
    "        X_f = np.concatenate((X_f, y), axis=1)\n",
    "    \n",
    "    for i in range(0, data.shape[0] - 1): \n",
    "        X_k = np.concatenate((X_k, y), axis=1)\n",
    "\n",
    "    \n",
    "    # create functions evaluated at the 10 different basis functions \n",
    "    # each basis function is a kernel evaluated at each point holding second variable constant. \n",
    "    # in this case we are evaluating the second variable at (almost) all possible points (large number of rows representing domain)\n",
    "    Kx = np.zeros((X_k.shape[0], data.shape[0]))\n",
    "\n",
    "\n",
    "    for i in range(Kx.shape[0]): \n",
    "        for j in range(Kx.shape[1]):\n",
    "            Kx[i, j] = kernelfunc(data[j], X_k[i, j])\n",
    "    \n",
    "    \n",
    "\n",
    "    # now create the weighted functions now representing the actual functions in RKHS. \n",
    "    alphas = mvn.sample([ssize]).numpy() # sample the alpha weights by which each kernel function will be weighed. \n",
    "    # each fx will need its own alpha. Amount sampled is the amount of sample functions we want to generate. \n",
    "    Fx = np.matmul(Kx, alphas.T)\n",
    "    return X_f, Fx, alphas,K\n"
   ]
  },
  {
   "cell_type": "code",
   "execution_count": 6,
   "metadata": {},
   "outputs": [],
   "source": [
    "def create_normal_distribution(kernel): \n",
    "    # mu, cov = np.zeros(tf.shape(kernel).numpy()[0]), tf.linalg.inv(kernel)\n",
    "    # scale = np.linalg.cholesky(cov)\n",
    "    mu, cov = np.zeros(tf.shape(kernel).numpy()[0]), kernel\n",
    "    scale = np.linalg.cholesky(cov)\n",
    "    return tfp.distributions.MultivariateNormalTriL(loc=mu,scale_tril=scale)"
   ]
  },
  {
   "cell_type": "code",
   "execution_count": 7,
   "metadata": {},
   "outputs": [
    {
     "ename": "NameError",
     "evalue": "name 'myarray' is not defined",
     "output_type": "error",
     "traceback": [
      "\u001b[0;31m---------------------------------------------------------------------------\u001b[0m",
      "\u001b[0;31mNameError\u001b[0m                                 Traceback (most recent call last)",
      "\u001b[0;32m<ipython-input-7-11e8e9540fd0>\u001b[0m in \u001b[0;36m<module>\u001b[0;34m\u001b[0m\n\u001b[1;32m      2\u001b[0m \u001b[0mgk\u001b[0m \u001b[0;34m=\u001b[0m \u001b[0;32mlambda\u001b[0m \u001b[0mi\u001b[0m\u001b[0;34m,\u001b[0m \u001b[0mj\u001b[0m\u001b[0;34m:\u001b[0m \u001b[0mnp\u001b[0m\u001b[0;34m.\u001b[0m\u001b[0mexp\u001b[0m\u001b[0;34m(\u001b[0m \u001b[0;34m(\u001b[0m\u001b[0;34m-\u001b[0m\u001b[0;36m1.0\u001b[0m \u001b[0;34m/\u001b[0m  \u001b[0;34m(\u001b[0m \u001b[0;36m2.0\u001b[0m \u001b[0;34m*\u001b[0m \u001b[0mt\u001b[0m\u001b[0;34m**\u001b[0m\u001b[0;36m2\u001b[0m \u001b[0;34m)\u001b[0m\u001b[0;34m)\u001b[0m \u001b[0;34m*\u001b[0m \u001b[0;34m(\u001b[0m\u001b[0mi\u001b[0m \u001b[0;34m-\u001b[0m \u001b[0mj\u001b[0m\u001b[0;34m)\u001b[0m\u001b[0;34m**\u001b[0m\u001b[0;36m2\u001b[0m \u001b[0;34m)\u001b[0m\u001b[0;34m\u001b[0m\u001b[0;34m\u001b[0m\u001b[0m\n\u001b[1;32m      3\u001b[0m \u001b[0mdata\u001b[0m \u001b[0;34m=\u001b[0m \u001b[0mnp\u001b[0m\u001b[0;34m.\u001b[0m\u001b[0marray\u001b[0m\u001b[0;34m(\u001b[0m\u001b[0;34m[\u001b[0m\u001b[0mi\u001b[0m \u001b[0;32mfor\u001b[0m \u001b[0mi\u001b[0m \u001b[0;32min\u001b[0m \u001b[0mrange\u001b[0m\u001b[0;34m(\u001b[0m\u001b[0;34m-\u001b[0m\u001b[0;36m10\u001b[0m\u001b[0;34m,\u001b[0m \u001b[0;36m1\u001b[0m\u001b[0;34m)\u001b[0m\u001b[0;34m]\u001b[0m\u001b[0;34m)\u001b[0m\u001b[0;34m\u001b[0m\u001b[0;34m\u001b[0m\u001b[0m\n\u001b[0;32m----> 4\u001b[0;31m \u001b[0mx\u001b[0m\u001b[0;34m,\u001b[0m\u001b[0my\u001b[0m\u001b[0;34m,\u001b[0m\u001b[0ma\u001b[0m\u001b[0;34m,\u001b[0m\u001b[0mk\u001b[0m \u001b[0;34m=\u001b[0m \u001b[0msampleRKHS\u001b[0m\u001b[0;34m(\u001b[0m\u001b[0mgk\u001b[0m\u001b[0;34m,\u001b[0m \u001b[0mdata\u001b[0m\u001b[0;34m,\u001b[0m \u001b[0mrkhs_range\u001b[0m\u001b[0;34m=\u001b[0m\u001b[0;34m(\u001b[0m\u001b[0;34m-\u001b[0m\u001b[0;36m10\u001b[0m\u001b[0;34m,\u001b[0m\u001b[0;36m0\u001b[0m\u001b[0;34m)\u001b[0m\u001b[0;34m)\u001b[0m\u001b[0;34m\u001b[0m\u001b[0;34m\u001b[0m\u001b[0m\n\u001b[0m\u001b[1;32m      5\u001b[0m \u001b[0mprint\u001b[0m\u001b[0;34m(\u001b[0m\u001b[0ma\u001b[0m\u001b[0;34m.\u001b[0m\u001b[0mshape\u001b[0m\u001b[0;34m)\u001b[0m\u001b[0;34m\u001b[0m\u001b[0;34m\u001b[0m\u001b[0m\n\u001b[1;32m      6\u001b[0m \u001b[0;31m# plt.title(r'$\\tau = 0.5$')\u001b[0m\u001b[0;34m\u001b[0m\u001b[0;34m\u001b[0m\u001b[0;34m\u001b[0m\u001b[0m\n",
      "\u001b[0;32m<ipython-input-5-967c6a7c660f>\u001b[0m in \u001b[0;36msampleRKHS\u001b[0;34m(kernelfunc, data, ssize, center, rkhs_range, func_precision, diag_add)\u001b[0m\n\u001b[1;32m     18\u001b[0m     \u001b[0mshape\u001b[0m\u001b[0;34m(\u001b[0m\u001b[0mfunc_precision\u001b[0m\u001b[0;34m,\u001b[0m \u001b[0mssize\u001b[0m\u001b[0;34m)\u001b[0m \u001b[0meach\u001b[0m \u001b[0mcol\u001b[0m \u001b[0mrepresents\u001b[0m \u001b[0mx\u001b[0m \u001b[0;32mand\u001b[0m \u001b[0my\u001b[0m \u001b[0mvalues\u001b[0m \u001b[0mof\u001b[0m \u001b[0meach\u001b[0m \u001b[0msampled\u001b[0m \u001b[0mfunction\u001b[0m\u001b[0;34m.\u001b[0m\u001b[0;34m\u001b[0m\u001b[0;34m\u001b[0m\u001b[0m\n\u001b[1;32m     19\u001b[0m     \"\"\"\n\u001b[0;32m---> 20\u001b[0;31m     \u001b[0mK\u001b[0m \u001b[0;34m=\u001b[0m \u001b[0mcreate_kernel_matrix\u001b[0m\u001b[0;34m(\u001b[0m\u001b[0mkernelfunc\u001b[0m\u001b[0;34m,\u001b[0m \u001b[0mdata\u001b[0m\u001b[0;34m)\u001b[0m\u001b[0;34m\u001b[0m\u001b[0;34m\u001b[0m\u001b[0m\n\u001b[0m\u001b[1;32m     21\u001b[0m     \u001b[0;32mif\u001b[0m \u001b[0mcenter\u001b[0m\u001b[0;34m:\u001b[0m\u001b[0;34m\u001b[0m\u001b[0;34m\u001b[0m\u001b[0m\n\u001b[1;32m     22\u001b[0m         \u001b[0mIU\u001b[0m \u001b[0;34m=\u001b[0m \u001b[0mnp\u001b[0m\u001b[0;34m.\u001b[0m\u001b[0midentity\u001b[0m\u001b[0;34m(\u001b[0m\u001b[0mdata\u001b[0m\u001b[0;34m.\u001b[0m\u001b[0mshape\u001b[0m\u001b[0;34m[\u001b[0m\u001b[0;36m0\u001b[0m\u001b[0;34m]\u001b[0m\u001b[0;34m)\u001b[0m \u001b[0;34m-\u001b[0m \u001b[0mnp\u001b[0m\u001b[0;34m.\u001b[0m\u001b[0mfull\u001b[0m\u001b[0;34m(\u001b[0m\u001b[0;34m(\u001b[0m\u001b[0mdata\u001b[0m\u001b[0;34m.\u001b[0m\u001b[0mshape\u001b[0m\u001b[0;34m[\u001b[0m\u001b[0;36m0\u001b[0m\u001b[0;34m]\u001b[0m\u001b[0;34m,\u001b[0m \u001b[0mdata\u001b[0m\u001b[0;34m.\u001b[0m\u001b[0mshape\u001b[0m\u001b[0;34m[\u001b[0m\u001b[0;36m0\u001b[0m\u001b[0;34m]\u001b[0m\u001b[0;34m)\u001b[0m\u001b[0;34m,\u001b[0m \u001b[0;36m1\u001b[0m \u001b[0;34m/\u001b[0m \u001b[0mdata\u001b[0m\u001b[0;34m.\u001b[0m\u001b[0mshape\u001b[0m\u001b[0;34m[\u001b[0m\u001b[0;36m0\u001b[0m\u001b[0;34m]\u001b[0m\u001b[0;34m)\u001b[0m\u001b[0;34m\u001b[0m\u001b[0;34m\u001b[0m\u001b[0m\n",
      "\u001b[0;32m<ipython-input-5-967c6a7c660f>\u001b[0m in \u001b[0;36mcreate_kernel_matrix\u001b[0;34m(kernelfunc, data)\u001b[0m\n\u001b[1;32m      3\u001b[0m \u001b[0;34m\u001b[0m\u001b[0m\n\u001b[1;32m      4\u001b[0m \u001b[0;32mdef\u001b[0m \u001b[0mcreate_kernel_matrix\u001b[0m\u001b[0;34m(\u001b[0m\u001b[0mkernelfunc\u001b[0m\u001b[0;34m,\u001b[0m \u001b[0mdata\u001b[0m\u001b[0;34m)\u001b[0m\u001b[0;34m:\u001b[0m\u001b[0;34m\u001b[0m\u001b[0;34m\u001b[0m\u001b[0m\n\u001b[0;32m----> 5\u001b[0;31m     \u001b[0;32mreturn\u001b[0m \u001b[0mmyarray\u001b[0m\u001b[0;34m(\u001b[0m\u001b[0mdata\u001b[0m\u001b[0;34m.\u001b[0m\u001b[0mshape\u001b[0m\u001b[0;34m[\u001b[0m\u001b[0;36m0\u001b[0m\u001b[0;34m]\u001b[0m\u001b[0;34m,\u001b[0m \u001b[0;32mlambda\u001b[0m \u001b[0mi\u001b[0m\u001b[0;34m,\u001b[0m \u001b[0mj\u001b[0m\u001b[0;34m:\u001b[0m \u001b[0mkernelfunc\u001b[0m\u001b[0;34m(\u001b[0m\u001b[0mdata\u001b[0m\u001b[0;34m[\u001b[0m\u001b[0mint\u001b[0m\u001b[0;34m(\u001b[0m\u001b[0mi\u001b[0m\u001b[0;34m)\u001b[0m\u001b[0;34m]\u001b[0m \u001b[0;34m,\u001b[0m \u001b[0mdata\u001b[0m\u001b[0;34m[\u001b[0m\u001b[0mint\u001b[0m\u001b[0;34m(\u001b[0m\u001b[0mj\u001b[0m\u001b[0;34m)\u001b[0m\u001b[0;34m]\u001b[0m\u001b[0;34m)\u001b[0m\u001b[0;34m)\u001b[0m\u001b[0;34m\u001b[0m\u001b[0;34m\u001b[0m\u001b[0m\n\u001b[0m\u001b[1;32m      6\u001b[0m \u001b[0;34m\u001b[0m\u001b[0m\n\u001b[1;32m      7\u001b[0m \u001b[0;34m\u001b[0m\u001b[0m\n",
      "\u001b[0;31mNameError\u001b[0m: name 'myarray' is not defined"
     ]
    }
   ],
   "source": [
    "t=10\n",
    "gk = lambda i, j: np.exp( (-1.0 /  ( 2.0 * t**2 )) * (i - j)**2 )\n",
    "data = np.array([i for i in range(-10, 1)])\n",
    "x,y,a,k = sampleRKHS(gk, data, rkhs_range=(-10,0))\n",
    "print(a.shape)\n",
    "# plt.title(r'$\\tau = 0.5$')\n",
    "# for i in range(0, 10): \n",
    "#     plt.plot(a[:, i])\n",
    "for i in range(0, 10): \n",
    "    plt.plot(a[i, :])\n",
    "\n",
    "\n",
    "#plt.savefig(\"./latex/figures/t10.pdf\")"
   ]
  },
  {
   "cell_type": "code",
   "execution_count": 0,
   "metadata": {},
   "outputs": [],
   "source": [
    "# check that the average of RKHS is approximately 0. \n",
    "n = np.full((12,1),fill_value=1/12)\n",
    "np.matmul(a.T, n)"
   ]
  },
  {
   "cell_type": "code",
   "execution_count": 0,
   "metadata": {},
   "outputs": [],
   "source": [
    "i = 1\n",
    "plt.imshow(train_x[1,:])\n",
    "plt.imshow(train_x[i,:])\n",
    "plt.show()\n",
    "np.matmul(np.reshape(train_x[1], 28**2).T, np.reshape(train_x[i], 28**2))"
   ]
  },
  {
   "cell_type": "code",
   "execution_count": 9,
   "metadata": {},
   "outputs": [
    {
     "data": {
      "text/plain": "(60000, 784)"
     },
     "execution_count": 9,
     "metadata": {},
     "output_type": "execute_result"
    }
   ],
   "source": [
    "# reshape all of the data. \n",
    "train_x_r = train_x.reshape((60000, 784))\n",
    "train_x_r.shape"
   ]
  },
  {
   "cell_type": "code",
   "execution_count": 0,
   "metadata": {},
   "outputs": [],
   "source": [
    "# def create_kernel_matrix(kernelfunc, data):  \n",
    "#     return myarray(kernelfunc, data) \n",
    "\n",
    "def myarray(func, data):\n",
    "    size = data.shape[0] \n",
    "    matrix = np.zeros((size, size))\n",
    "    for i in range(0, size): \n",
    "        for j in range(0, size): \n",
    "            matrix[i, j] = func(data[i], data[j])\n",
    "    return matrix"
   ]
  },
  {
   "cell_type": "code",
   "execution_count": 8,
   "metadata": {},
   "outputs": [
    {
     "ename": "NameError",
     "evalue": "name 'train_x_r' is not defined",
     "output_type": "error",
     "traceback": [
      "\u001b[0;31m---------------------------------------------------------------------------\u001b[0m",
      "\u001b[0;31mNameError\u001b[0m                                 Traceback (most recent call last)",
      "\u001b[0;32m<ipython-input-8-5833bb32d58d>\u001b[0m in \u001b[0;36m<module>\u001b[0;34m\u001b[0m\n\u001b[1;32m      1\u001b[0m \u001b[0;31m# linear = lambda x, y: np.matmul(x.T, y)\u001b[0m\u001b[0;34m\u001b[0m\u001b[0;34m\u001b[0m\u001b[0;34m\u001b[0m\u001b[0m\n\u001b[1;32m      2\u001b[0m \u001b[0;31m# kernel = create_kernel_matrix(linear, train_x_r)\u001b[0m\u001b[0;34m\u001b[0m\u001b[0;34m\u001b[0m\u001b[0;34m\u001b[0m\u001b[0m\n\u001b[0;32m----> 3\u001b[0;31m \u001b[0mkernel\u001b[0m \u001b[0;34m=\u001b[0m \u001b[0mtf\u001b[0m\u001b[0;34m.\u001b[0m\u001b[0mmatmul\u001b[0m\u001b[0;34m(\u001b[0m\u001b[0mtrain_x_r\u001b[0m\u001b[0;34m,\u001b[0m \u001b[0mtrain_x_r\u001b[0m\u001b[0;34m.\u001b[0m\u001b[0mT\u001b[0m\u001b[0;34m)\u001b[0m\u001b[0;34m\u001b[0m\u001b[0;34m\u001b[0m\u001b[0m\n\u001b[0m",
      "\u001b[0;31mNameError\u001b[0m: name 'train_x_r' is not defined"
     ]
    }
   ],
   "source": [
    "# linear = lambda x, y: np.matmul(x.T, y)\n",
    "# kernel = create_kernel_matrix(linear, train_x_r)\n",
    "kernel = tf.matmul(train_x_r, train_x_r.T)"
   ]
  },
  {
   "cell_type": "code",
   "execution_count": 10,
   "metadata": {},
   "outputs": [
    {
     "ename": "NameError",
     "evalue": "name 'kernel' is not defined",
     "output_type": "error",
     "traceback": [
      "\u001b[0;31m---------------------------------------------------------------------------\u001b[0m",
      "\u001b[0;31mNameError\u001b[0m                                 Traceback (most recent call last)",
      "\u001b[0;32m<ipython-input-10-3ad690b94af7>\u001b[0m in \u001b[0;36m<module>\u001b[0;34m\u001b[0m\n\u001b[0;32m----> 1\u001b[0;31m \u001b[0mkernel\u001b[0m\u001b[0;34m.\u001b[0m\u001b[0mshape\u001b[0m\u001b[0;34m\u001b[0m\u001b[0;34m\u001b[0m\u001b[0m\n\u001b[0m",
      "\u001b[0;31mNameError\u001b[0m: name 'kernel' is not defined"
     ]
    }
   ],
   "source": [
    "kernel.shape"
   ]
  },
  {
   "cell_type": "code",
   "execution_count": 11,
   "metadata": {},
   "outputs": [
    {
     "data": {
      "text/plain": "(60000, 784)"
     },
     "execution_count": 11,
     "metadata": {},
     "output_type": "execute_result"
    }
   ],
   "source": [
    "train_x_r.shape"
   ]
  },
  {
   "cell_type": "code",
   "execution_count": 12,
   "metadata": {},
   "outputs": [],
   "source": [
    "# sample a smaller size. \n",
    "sample = random.sample(range(0, 60000), 500)\n",
    "x = train_x_r[sample, :]\n",
    "y = train_y[sample]"
   ]
  },
  {
   "cell_type": "code",
   "execution_count": 13,
   "metadata": {},
   "outputs": [],
   "source": [
    "kernel = tf.matmul(x, x.T)\n",
    "e, v = tf.linalg.eigh(kernel)"
   ]
  },
  {
   "cell_type": "code",
   "execution_count": 15,
   "metadata": {},
   "outputs": [],
   "source": [
    "# center the kernel. \n",
    "IU = np.identity(kernel.shape[0]) - np.full((kernel.shape[0], kernel.shape[0]), 1 / kernel.shape[0])\n",
    "kernel = tf.linalg.matmul(IU, tf.linalg.matmul(kernel, IU))\n",
    "kernel += np.identity(kernel.shape[0]) * 1e-6 # to ensure positive definitness. "
   ]
  },
  {
   "cell_type": "code",
   "execution_count": 50,
   "metadata": {},
   "outputs": [
    {
     "data": {
      "text/plain": "<tf.Tensor: shape=(500,), dtype=float64, numpy=\narray([ 6.98300267e+05,  4.48716039e+06,  2.19916113e+06,  3.06722795e+05,\n       -5.04515469e+05, -6.46121081e+05, -6.41446087e+05,  4.35358157e+05,\n       -3.66350373e+05,  2.51865702e+06,  1.10562667e+06,  1.16775650e+06,\n        1.10894902e+06, -3.76616045e+05,  1.33323083e+05, -7.10535495e+04,\n        1.02362855e+06,  1.70326570e+06, -7.61468297e+05, -3.46496261e+05,\n       -6.89369787e+05, -8.86856595e+05,  9.68735721e+05,  1.19181754e+06,\n        7.86058843e+05, -7.05475569e+05, -9.75738435e+04,  1.09512451e+06,\n        7.75999185e+04, -1.15841989e+05, -5.32714479e+05, -3.52204343e+05,\n       -1.66732815e+05,  5.68582545e+05,  6.49252687e+05, -4.49203641e+05,\n       -8.61615691e+05, -2.37129555e+05, -7.98763285e+05,  1.31898599e+05,\n       -3.15070881e+05, -3.51151669e+05,  2.39962167e+05, -3.60765437e+05,\n       -1.13257232e+06,  7.11584953e+05,  1.09731959e+05,  7.99966185e+04,\n        2.22780039e+05, -4.78060537e+05, -7.91223701e+05, -1.49098423e+05,\n        3.07981319e+05, -6.35285685e+05, -6.93468423e+05, -3.91452161e+05,\n       -8.26891707e+05, -3.15574131e+05,  1.44433093e+06, -5.89447381e+05,\n       -1.63083721e+05, -1.35053513e+05, -9.85156295e+04, -7.66426545e+05,\n        6.81202757e+05, -6.64132633e+05, -5.85776523e+05,  7.47982109e+05,\n        2.87503428e+06,  7.10883601e+05, -1.36307263e+05, -5.45964823e+05,\n        1.22250481e+05,  5.26014005e+05, -3.84482337e+05,  3.46304150e+06,\n        1.02038171e+06,  4.55344359e+05, -4.93661611e+05, -4.72404665e+05,\n        3.31556524e+06,  1.01595479e+06,  8.26587001e+05, -4.72261091e+05,\n        1.59407917e+05,  3.64936225e+05, -6.59774655e+05, -5.82085685e+05,\n        7.20845585e+04, -5.26824367e+05, -3.83400175e+04, -5.53250623e+05,\n       -5.08025493e+05,  1.26044327e+05, -1.87923031e+05,  5.55872793e+05,\n        1.24227147e+05, -5.54256687e+05, -8.34516701e+05, -3.91143651e+05,\n       -4.75936531e+05,  7.97899921e+05, -1.44263685e+05, -6.39932621e+05,\n        1.61491614e+06,  1.80747807e+06,  5.85084531e+05, -1.80623111e+05,\n       -8.61910035e+04, -8.69549075e+04,  4.25705001e+05, -3.54137843e+05,\n       -3.99835917e+05, -5.98711621e+05, -6.11064137e+05,  2.43424791e+06,\n       -1.61282475e+05,  3.34039461e+05,  1.03262065e+05, -9.02374875e+04,\n       -3.08368279e+05,  1.71088359e+05,  2.05389229e+05, -3.56813817e+05,\n       -4.78668817e+05, -4.60109267e+05, -5.01322123e+05, -4.75903379e+05,\n       -6.46906183e+05, -4.44080173e+05, -6.96360535e+04, -1.07957193e+06,\n       -5.05632231e+05,  2.56019221e+05, -3.81349429e+05, -2.60154167e+05,\n        3.54999011e+05,  1.17777183e+05, -5.72973699e+05,  8.59387905e+04,\n       -7.92392163e+05, -1.59975849e+05,  5.50114965e+04, -4.15391461e+05,\n        2.43222617e+05, -7.83077321e+05,  1.37059185e+06,  2.40924845e+04,\n        4.54492677e+05,  1.02563491e+05,  1.00599513e+06,  1.29741545e+05,\n        1.50782499e+05, -6.52656805e+05, -5.80147399e+05, -7.41693323e+05,\n        1.18947745e+05, -1.78428883e+05, -9.63185403e+05,  2.69388998e+06,\n        2.93913805e+05,  2.67165999e+05, -5.95621435e+05, -5.76316031e+05,\n       -2.69872095e+05, -5.16822433e+05,  7.03611809e+05, -4.67613929e+05,\n       -1.55089643e+05, -4.58250979e+05,  6.12048053e+05, -8.80132097e+05,\n        1.94258063e+05, -6.70729165e+05, -6.71132757e+05, -9.30480273e+05,\n        1.09843868e+06,  1.06651695e+05, -3.26816585e+05,  3.97469223e+05,\n       -6.91637877e+05, -7.24886095e+04, -5.50794053e+05,  1.83747091e+05,\n       -4.37872121e+05, -6.68790748e+03, -5.04298223e+05, -4.14999817e+05,\n        8.34108525e+05,  1.64861635e+06, -4.69202369e+05, -2.76800005e+05,\n       -9.57920155e+04,  7.52501133e+05,  3.03737097e+05,  3.84970845e+05,\n       -4.92185093e+05, -6.53900097e+05, -6.25001271e+05,  1.91984137e+05,\n        3.20673567e+05, -4.97910717e+05, -3.94707253e+05,  8.46954331e+05,\n       -3.96442311e+05, -4.76130877e+05,  1.16902999e+05,  4.36089831e+05,\n       -5.61976193e+05, -1.23864252e+06,  5.36730111e+05, -3.91333805e+05,\n       -3.35353461e+05, -8.65237795e+04, -4.70579281e+05,  6.21544321e+05,\n       -2.09254095e+05, -1.30715895e+05,  1.11621019e+05, -1.21672151e+05,\n        5.29644505e+04, -5.96042548e+03, -3.97698913e+05, -1.12288493e+06,\n       -1.32855615e+06,  2.73628905e+05,  6.08370115e+05,  1.45474232e+06,\n       -4.71758129e+05,  1.76225597e+06, -6.33733017e+05, -1.13077205e+05,\n       -6.11521505e+05,  1.04308703e+05, -6.50292279e+05,  1.22712685e+06,\n        7.90730789e+05,  7.35235235e+05, -2.68558187e+05,  7.22160205e+05,\n       -3.24667663e+05, -4.36637611e+05,  1.53334141e+05,  7.70397209e+05,\n       -3.34386371e+05, -6.72061215e+05, -3.41070357e+05, -9.03553093e+05,\n       -5.64756481e+05,  1.48657434e+06, -3.01087105e+05, -6.87600125e+05,\n       -8.27690229e+05,  8.64938621e+05, -1.74512441e+05,  4.13513571e+05,\n       -6.18061837e+05,  4.29386009e+05, -6.17297155e+05, -1.04287359e+06,\n       -4.62184135e+04, -4.77968685e+05, -5.20979077e+05, -9.56129271e+05,\n        9.34511585e+04,  3.39736943e+05,  9.52535767e+05,  6.31590407e+05,\n        1.64390107e+05, -3.45189355e+05, -2.61525333e+05,  9.30753925e+04,\n       -5.10865123e+05, -2.95005131e+05,  1.03272811e+05, -5.42643865e+05,\n        1.80720769e+05, -6.39511903e+05, -1.31400755e+04,  2.39590130e+06,\n        2.78620508e+06,  2.53609017e+06,  1.24763703e+05, -4.65855421e+05,\n        7.79261085e+05, -6.39921495e+04,  2.37287339e+05,  2.39407503e+05,\n       -6.16324867e+05, -3.18267635e+05, -5.19763477e+05, -8.65062949e+05,\n        7.09089165e+04,  3.49811547e+05,  3.23286467e+05, -2.37057271e+05,\n        4.19717795e+05, -7.27267923e+05,  2.76492793e+05,  1.13103384e+06,\n       -7.10678085e+05, -5.68475465e+05, -7.68254993e+05, -3.22843703e+05,\n       -1.04415289e+06,  2.06013466e+06, -3.09190869e+05, -5.72869081e+05,\n        3.74064695e+05, -5.97094221e+05,  3.72008819e+05, -5.42750481e+05,\n       -6.32612567e+05, -7.46639169e+05, -8.55722639e+05,  5.64214373e+05,\n        6.78422595e+05, -4.10304455e+04, -1.90639777e+05,  5.46506305e+04,\n       -1.25104227e+05, -3.27998527e+05, -3.27040477e+05, -4.31563755e+05,\n       -5.13090081e+05,  1.33595705e+04,  1.73304504e+06, -4.79887129e+05,\n       -8.00075851e+05,  7.44916479e+05, -4.80992885e+05, -2.64269019e+05,\n        2.78974301e+05,  4.86653527e+05, -5.70126715e+04, -2.78253095e+04,\n       -5.97366605e+05, -3.96343391e+05, -1.41949441e+05, -3.48792753e+05,\n       -4.91482845e+05,  2.75605677e+05, -4.23020071e+05, -4.18820335e+04,\n       -4.57066741e+05, -2.87483891e+05,  1.20184848e+06,  4.99582571e+05,\n       -8.69097485e+05, -1.31965379e+06, -6.78165453e+05, -1.01078970e+06,\n       -7.26600815e+05,  5.01834825e+04, -3.50243765e+05, -7.62710375e+04,\n        7.11643715e+05, -3.60233111e+05, -4.17132457e+05, -5.29500873e+05,\n       -8.87644187e+05, -3.47615045e+05, -5.19474675e+05, -3.15681543e+05,\n       -5.11387853e+05, -5.91454877e+05, -6.64656269e+05,  6.22035549e+05,\n       -3.93990773e+05,  8.49668981e+05, -2.60710193e+05,  1.88545338e+06,\n       -5.71440221e+05,  8.37336965e+04, -3.34400307e+05, -9.57415775e+05,\n       -9.83649119e+05, -3.29307493e+05, -1.14546211e+05,  2.40441309e+05,\n       -2.01314103e+05,  1.21072393e+05,  1.28983835e+06,  4.83478229e+05,\n       -1.05493396e+06,  1.07164785e+04, -4.50620479e+05,  2.21386978e+06,\n       -1.96951915e+04, -4.54919457e+05, -1.95237515e+04, -4.38977789e+05,\n        6.10218147e+05, -2.38631793e+05, -8.58348937e+05, -3.99678713e+05,\n       -7.65152981e+05,  3.51590655e+05, -6.62518207e+05,  1.14162856e+06,\n       -2.85069875e+05, -4.42687129e+05, -3.31951453e+05, -5.55566221e+05,\n       -7.12929348e+03, -6.92403695e+04, -3.30140947e+05, -6.25258521e+05,\n        1.03949237e+05,  2.14934325e+04, -4.55437817e+05,  1.14971385e+06,\n       -7.38232417e+05,  3.75854645e+04, -6.13814011e+05, -5.33306171e+05,\n       -2.62594760e+01,  3.35405241e+05, -8.81408655e+04,  7.53988381e+05,\n        4.04991749e+05,  1.81437241e+05,  8.74604937e+05, -6.02395221e+05,\n       -2.43149465e+05, -3.27338639e+05, -3.53075389e+05, -2.22769001e+05,\n       -1.05240668e+06,  1.63567198e+06, -6.21494885e+05, -1.06765642e+06,\n        1.01080977e+05,  1.97374041e+05,  4.91682037e+05, -7.91198723e+05,\n        7.51442525e+04, -6.51782083e+05, -7.05654847e+05, -4.19008515e+04,\n       -5.23882235e+05,  9.70972252e+03, -2.54741327e+05, -2.78357939e+05,\n        2.23389729e+06, -5.89210695e+04, -3.67364537e+05, -7.04201437e+05,\n        1.23164906e+06, -8.94023009e+05, -1.78163751e+05,  8.07428345e+04,\n       -1.90235315e+04,  1.27588737e+06, -2.41054697e+05,  1.45796390e+06,\n        7.99634339e+05,  4.58515405e+04, -5.32768667e+05, -2.59384803e+05,\n       -5.35423175e+05,  1.01859872e+06,  8.22615251e+05, -6.07370853e+05,\n        9.28335177e+05, -2.88923995e+05, -2.59660427e+05, -2.50220785e+05,\n       -2.94213765e+05, -5.29100935e+05,  7.73251805e+04,  4.08678709e+05,\n       -6.76678979e+05,  2.73046625e+04,  1.03855895e+06, -4.29620369e+05,\n       -4.30932895e+04, -4.08924439e+05,  3.73950541e+05, -7.53492189e+05,\n       -5.06483707e+05,  2.03784311e+06,  2.06577994e+06,  1.05512200e+06,\n       -5.69258069e+05,  2.78344588e+06, -5.57356093e+05,  1.62152060e+06,\n        2.52596695e+05, -7.14443239e+05, -1.89815941e+05, -5.31949117e+05,\n       -3.63035441e+05, -5.02699983e+05, -2.21512117e+05, -7.23841627e+05,\n       -3.74899647e+05, -5.29146601e+05, -4.78267571e+05, -2.94875591e+05])>"
     },
     "execution_count": 50,
     "metadata": {},
     "output_type": "execute_result"
    }
   ],
   "source": [
    "#v.shape # eigen vectors\n",
    "kernel[1,:]"
   ]
  },
  {
   "cell_type": "code",
   "execution_count": 26,
   "metadata": {},
   "outputs": [
    {
     "data": {
      "text/html": "<div>\n<style scoped>\n    .dataframe tbody tr th:only-of-type {\n        vertical-align: middle;\n    }\n\n    .dataframe tbody tr th {\n        vertical-align: top;\n    }\n\n    .dataframe thead th {\n        text-align: right;\n    }\n</style>\n<table border=\"1\" class=\"dataframe\">\n  <thead>\n    <tr style=\"text-align: right;\">\n      <th></th>\n      <th>0</th>\n    </tr>\n  </thead>\n  <tbody>\n    <tr>\n      <th>0</th>\n      <td>37.605741</td>\n    </tr>\n    <tr>\n      <th>1</th>\n      <td>50.938946</td>\n    </tr>\n    <tr>\n      <th>2</th>\n      <td>63.678475</td>\n    </tr>\n    <tr>\n      <th>3</th>\n      <td>81.726187</td>\n    </tr>\n    <tr>\n      <th>4</th>\n      <td>87.267225</td>\n    </tr>\n  </tbody>\n</table>\n</div>",
      "text/plain": "           0\n0  37.605741\n1  50.938946\n2  63.678475\n3  81.726187\n4  87.267225"
     },
     "execution_count": 26,
     "metadata": {},
     "output_type": "execute_result"
    }
   ],
   "source": [
    "e.shape\n",
    "pd.DataFrame(e).head() # looks like the eigenvalues are already sorted. "
   ]
  },
  {
   "cell_type": "code",
   "execution_count": 35,
   "metadata": {},
   "outputs": [],
   "source": [
    "ones = []\n",
    "sevens = []\n",
    "for i in range(0, y.shape[0]):\n",
    "     if y[i] == 1: \n",
    "         ones.append(i)\n",
    "     elif y[i] == 7: \n",
    "         sevens.append(i)"
   ]
  },
  {
   "cell_type": "code",
   "execution_count": 36,
   "metadata": {},
   "outputs": [],
   "source": [
    "ones = np.array(ones)\n",
    "sevens = np.array(sevens)"
   ]
  },
  {
   "cell_type": "code",
   "execution_count": 66,
   "metadata": {},
   "outputs": [],
   "source": [
    "# project first 8 ones and sevens unto the first principle minor. \n",
    "ones_1p = []\n",
    "sevens_1p = []\n",
    "for i in range(0, 8): \n",
    "    ones_1p.append(v.numpy()[ones[i], 1] * np.matmul(v.numpy()[:, 1], kernel.numpy()[ones[i], :]))\n",
    "    sevens_1p.append(v.numpy()[sevens[i], 1] * np.matmul(v.numpy()[:, 1], kernel.numpy()[sevens[i], :]))"
   ]
  },
  {
   "cell_type": "code",
   "execution_count": 67,
   "metadata": {},
   "outputs": [],
   "source": [
    "# project first 8 ones and sevens unto the first principle minor. \n",
    "ones_2p = []\n",
    "sevens_2p = []\n",
    "for i in range(0, 8): \n",
    "    ones_2p.append(v.numpy()[ones[i], 2] * np.matmul(v.numpy()[:, 2], kernel.numpy()[ones[i], :]))\n",
    "    sevens_2p.append(v.numpy()[sevens[i], 2] * np.matmul(v.numpy()[:, 2], kernel.numpy()[sevens[i], :]))"
   ]
  },
  {
   "cell_type": "code",
   "execution_count": 72,
   "metadata": {},
   "outputs": [
    {
     "data": {
      "text/plain": "8"
     },
     "execution_count": 72,
     "metadata": {},
     "output_type": "execute_result"
    }
   ],
   "source": [
    "#len(ones_2p)\n",
    "len(sevens_2p)"
   ]
  },
  {
   "cell_type": "code",
   "execution_count": 74,
   "metadata": {},
   "outputs": [
    {
     "data": {
      "text/plain": "[<matplotlib.lines.Line2D at 0x17c964610>]"
     },
     "execution_count": 74,
     "metadata": {},
     "output_type": "execute_result"
    },
    {
     "data": {
      "image/png": "[encoded data removed]",
      "image/svg+xml": "<?xml version=\"1.0\" encoding=\"utf-8\" standalone=\"no\"?>\n<!DOCTYPE svg PUBLIC \"-//W3C//DTD SVG 1.1//EN\"\n  \"http://www.w3.org/Graphics/SVG/1.1/DTD/svg11.dtd\">\n<!-- Created with matplotlib (https://matplotlib.org/) -->\n<svg height=\"248.518125pt\" version=\"1.1\" viewBox=\"0 0 396.392187 248.518125\" width=\"396.392187pt\" xmlns=\"http://www.w3.org/2000/svg\" xmlns:xlink=\"http://www.w3.org/1999/xlink\">\n <defs>\n  <style type=\"text/css\">\n*{stroke-linecap:butt;stroke-linejoin:round;}\n  </style>\n </defs>\n <g id=\"figure_1\">\n  <g id=\"patch_1\">\n   <path d=\"M 0 248.518125 \nL 396.392187 248.518125 \nL 396.392187 0 \nL 0 0 \nz\n\" style=\"fill:none;\"/>\n  </g>\n  <g id=\"axes_1\">\n   <g id=\"patch_2\">\n    <path d=\"M 54.392188 224.64 \nL 389.192187 224.64 \nL 389.192187 7.2 \nL 54.392188 7.2 \nz\n\" style=\"fill:#ffffff;\"/>\n   </g>\n   <g id=\"matplotlib.axis_1\">\n    <g id=\"xtick_1\">\n     <g id=\"line2d_1\">\n      <defs>\n       <path d=\"M 0 0 \nL 0 3.5 \n\" id=\"me97d111243\" style=\"stroke:#000000;stroke-width:0.8;\"/>\n      </defs>\n      <g>\n       <use style=\"stroke:#000000;stroke-width:0.8;\" x=\"56.041229\" xlink:href=\"#me97d111243\" y=\"224.64\"/>\n      </g>\n     </g>\n     <g id=\"text_1\">\n      <!-- −20000 -->\n      <defs>\n       <path d=\"M 10.59375 35.5 \nL 73.1875 35.5 \nL 73.1875 27.203125 \nL 10.59375 27.203125 \nz\n\" id=\"DejaVuSans-8722\"/>\n       <path d=\"M 19.1875 8.296875 \nL 53.609375 8.296875 \nL 53.609375 0 \nL 7.328125 0 \nL 7.328125 8.296875 \nQ 12.9375 14.109375 22.625 23.890625 \nQ 32.328125 33.6875 34.8125 36.53125 \nQ 39.546875 41.84375 41.421875 45.53125 \nQ 43.3125 49.21875 43.3125 52.78125 \nQ 43.3125 58.59375 39.234375 62.25 \nQ 35.15625 65.921875 28.609375 65.921875 \nQ 23.96875 65.921875 18.8125 64.3125 \nQ 13.671875 62.703125 7.8125 59.421875 \nL 7.8125 69.390625 \nQ 13.765625 71.78125 18.9375 73 \nQ 24.125 74.21875 28.421875 74.21875 \nQ 39.75 74.21875 46.484375 68.546875 \nQ 53.21875 62.890625 53.21875 53.421875 \nQ 53.21875 48.921875 51.53125 44.890625 \nQ 49.859375 40.875 45.40625 35.40625 \nQ 44.1875 33.984375 37.640625 27.21875 \nQ 31.109375 20.453125 19.1875 8.296875 \nz\n\" id=\"DejaVuSans-50\"/>\n       <path d=\"M 31.78125 66.40625 \nQ 24.171875 66.40625 20.328125 58.90625 \nQ 16.5 51.421875 16.5 36.375 \nQ 16.5 21.390625 20.328125 13.890625 \nQ 24.171875 6.390625 31.78125 6.390625 \nQ 39.453125 6.390625 43.28125 13.890625 \nQ 47.125 21.390625 47.125 36.375 \nQ 47.125 51.421875 43.28125 58.90625 \nQ 39.453125 66.40625 31.78125 66.40625 \nz\nM 31.78125 74.21875 \nQ 44.046875 74.21875 50.515625 64.515625 \nQ 56.984375 54.828125 56.984375 36.375 \nQ 56.984375 17.96875 50.515625 8.265625 \nQ 44.046875 -1.421875 31.78125 -1.421875 \nQ 19.53125 -1.421875 13.0625 8.265625 \nQ 6.59375 17.96875 6.59375 36.375 \nQ 6.59375 54.828125 13.0625 64.515625 \nQ 19.53125 74.21875 31.78125 74.21875 \nz\n\" id=\"DejaVuSans-48\"/>\n      </defs>\n      <g transform=\"translate(35.945135 239.238437)scale(0.1 -0.1)\">\n       <use xlink:href=\"#DejaVuSans-8722\"/>\n       <use x=\"83.789062\" xlink:href=\"#DejaVuSans-50\"/>\n       <use x=\"147.412109\" xlink:href=\"#DejaVuSans-48\"/>\n       <use x=\"211.035156\" xlink:href=\"#DejaVuSans-48\"/>\n       <use x=\"274.658203\" xlink:href=\"#DejaVuSans-48\"/>\n       <use x=\"338.28125\" xlink:href=\"#DejaVuSans-48\"/>\n      </g>\n     </g>\n    </g>\n    <g id=\"xtick_2\">\n     <g id=\"line2d_2\">\n      <g>\n       <use style=\"stroke:#000000;stroke-width:0.8;\" x=\"107.945849\" xlink:href=\"#me97d111243\" y=\"224.64\"/>\n      </g>\n     </g>\n     <g id=\"text_2\">\n      <!-- −15000 -->\n      <defs>\n       <path d=\"M 12.40625 8.296875 \nL 28.515625 8.296875 \nL 28.515625 63.921875 \nL 10.984375 60.40625 \nL 10.984375 69.390625 \nL 28.421875 72.90625 \nL 38.28125 72.90625 \nL 38.28125 8.296875 \nL 54.390625 8.296875 \nL 54.390625 0 \nL 12.40625 0 \nz\n\" id=\"DejaVuSans-49\"/>\n       <path d=\"M 10.796875 72.90625 \nL 49.515625 72.90625 \nL 49.515625 64.59375 \nL 19.828125 64.59375 \nL 19.828125 46.734375 \nQ 21.96875 47.46875 24.109375 47.828125 \nQ 26.265625 48.1875 28.421875 48.1875 \nQ 40.625 48.1875 47.75 41.5 \nQ 54.890625 34.8125 54.890625 23.390625 \nQ 54.890625 11.625 47.5625 5.09375 \nQ 40.234375 -1.421875 26.90625 -1.421875 \nQ 22.3125 -1.421875 17.546875 -0.640625 \nQ 12.796875 0.140625 7.71875 1.703125 \nL 7.71875 11.625 \nQ 12.109375 9.234375 16.796875 8.0625 \nQ 21.484375 6.890625 26.703125 6.890625 \nQ 35.15625 6.890625 40.078125 11.328125 \nQ 45.015625 15.765625 45.015625 23.390625 \nQ 45.015625 31 40.078125 35.4375 \nQ 35.15625 39.890625 26.703125 39.890625 \nQ 22.75 39.890625 18.8125 39.015625 \nQ 14.890625 38.140625 10.796875 36.28125 \nz\n\" id=\"DejaVuSans-53\"/>\n      </defs>\n      <g transform=\"translate(87.849755 239.238437)scale(0.1 -0.1)\">\n       <use xlink:href=\"#DejaVuSans-8722\"/>\n       <use x=\"83.789062\" xlink:href=\"#DejaVuSans-49\"/>\n       <use x=\"147.412109\" xlink:href=\"#DejaVuSans-53\"/>\n       <use x=\"211.035156\" xlink:href=\"#DejaVuSans-48\"/>\n       <use x=\"274.658203\" xlink:href=\"#DejaVuSans-48\"/>\n       <use x=\"338.28125\" xlink:href=\"#DejaVuSans-48\"/>\n      </g>\n     </g>\n    </g>\n    <g id=\"xtick_3\">\n     <g id=\"line2d_3\">\n      <g>\n       <use style=\"stroke:#000000;stroke-width:0.8;\" x=\"159.850469\" xlink:href=\"#me97d111243\" y=\"224.64\"/>\n      </g>\n     </g>\n     <g id=\"text_3\">\n      <!-- −10000 -->\n      <g transform=\"translate(139.754376 239.238437)scale(0.1 -0.1)\">\n       <use xlink:href=\"#DejaVuSans-8722\"/>\n       <use x=\"83.789062\" xlink:href=\"#DejaVuSans-49\"/>\n       <use x=\"147.412109\" xlink:href=\"#DejaVuSans-48\"/>\n       <use x=\"211.035156\" xlink:href=\"#DejaVuSans-48\"/>\n       <use x=\"274.658203\" xlink:href=\"#DejaVuSans-48\"/>\n       <use x=\"338.28125\" xlink:href=\"#DejaVuSans-48\"/>\n      </g>\n     </g>\n    </g>\n    <g id=\"xtick_4\">\n     <g id=\"line2d_4\">\n      <g>\n       <use style=\"stroke:#000000;stroke-width:0.8;\" x=\"211.755089\" xlink:href=\"#me97d111243\" y=\"224.64\"/>\n      </g>\n     </g>\n     <g id=\"text_4\">\n      <!-- −5000 -->\n      <g transform=\"translate(194.840246 239.238437)scale(0.1 -0.1)\">\n       <use xlink:href=\"#DejaVuSans-8722\"/>\n       <use x=\"83.789062\" xlink:href=\"#DejaVuSans-53\"/>\n       <use x=\"147.412109\" xlink:href=\"#DejaVuSans-48\"/>\n       <use x=\"211.035156\" xlink:href=\"#DejaVuSans-48\"/>\n       <use x=\"274.658203\" xlink:href=\"#DejaVuSans-48\"/>\n      </g>\n     </g>\n    </g>\n    <g id=\"xtick_5\">\n     <g id=\"line2d_5\">\n      <g>\n       <use style=\"stroke:#000000;stroke-width:0.8;\" x=\"263.65971\" xlink:href=\"#me97d111243\" y=\"224.64\"/>\n      </g>\n     </g>\n     <g id=\"text_5\">\n      <!-- 0 -->\n      <g transform=\"translate(260.47846 239.238437)scale(0.1 -0.1)\">\n       <use xlink:href=\"#DejaVuSans-48\"/>\n      </g>\n     </g>\n    </g>\n    <g id=\"xtick_6\">\n     <g id=\"line2d_6\">\n      <g>\n       <use style=\"stroke:#000000;stroke-width:0.8;\" x=\"315.56433\" xlink:href=\"#me97d111243\" y=\"224.64\"/>\n      </g>\n     </g>\n     <g id=\"text_6\">\n      <!-- 5000 -->\n      <g transform=\"translate(302.83933 239.238437)scale(0.1 -0.1)\">\n       <use xlink:href=\"#DejaVuSans-53\"/>\n       <use x=\"63.623047\" xlink:href=\"#DejaVuSans-48\"/>\n       <use x=\"127.246094\" xlink:href=\"#DejaVuSans-48\"/>\n       <use x=\"190.869141\" xlink:href=\"#DejaVuSans-48\"/>\n      </g>\n     </g>\n    </g>\n    <g id=\"xtick_7\">\n     <g id=\"line2d_7\">\n      <g>\n       <use style=\"stroke:#000000;stroke-width:0.8;\" x=\"367.46895\" xlink:href=\"#me97d111243\" y=\"224.64\"/>\n      </g>\n     </g>\n     <g id=\"text_7\">\n      <!-- 10000 -->\n      <g transform=\"translate(351.5627 239.238437)scale(0.1 -0.1)\">\n       <use xlink:href=\"#DejaVuSans-49\"/>\n       <use x=\"63.623047\" xlink:href=\"#DejaVuSans-48\"/>\n       <use x=\"127.246094\" xlink:href=\"#DejaVuSans-48\"/>\n       <use x=\"190.869141\" xlink:href=\"#DejaVuSans-48\"/>\n       <use x=\"254.492188\" xlink:href=\"#DejaVuSans-48\"/>\n      </g>\n     </g>\n    </g>\n   </g>\n   <g id=\"matplotlib.axis_2\">\n    <g id=\"ytick_1\">\n     <g id=\"line2d_8\">\n      <defs>\n       <path d=\"M 0 0 \nL -3.5 0 \n\" id=\"mf01b1c2f92\" style=\"stroke:#000000;stroke-width:0.8;\"/>\n      </defs>\n      <g>\n       <use style=\"stroke:#000000;stroke-width:0.8;\" x=\"54.392188\" xlink:href=\"#mf01b1c2f92\" y=\"221.472969\"/>\n      </g>\n     </g>\n     <g id=\"text_8\">\n      <!-- −20000 -->\n      <g transform=\"translate(7.2 225.272188)scale(0.1 -0.1)\">\n       <use xlink:href=\"#DejaVuSans-8722\"/>\n       <use x=\"83.789062\" xlink:href=\"#DejaVuSans-50\"/>\n       <use x=\"147.412109\" xlink:href=\"#DejaVuSans-48\"/>\n       <use x=\"211.035156\" xlink:href=\"#DejaVuSans-48\"/>\n       <use x=\"274.658203\" xlink:href=\"#DejaVuSans-48\"/>\n       <use x=\"338.28125\" xlink:href=\"#DejaVuSans-48\"/>\n      </g>\n     </g>\n    </g>\n    <g id=\"ytick_2\">\n     <g id=\"line2d_9\">\n      <g>\n       <use style=\"stroke:#000000;stroke-width:0.8;\" x=\"54.392188\" xlink:href=\"#mf01b1c2f92\" y=\"193.083971\"/>\n      </g>\n     </g>\n     <g id=\"text_9\">\n      <!-- −15000 -->\n      <g transform=\"translate(7.2 196.88319)scale(0.1 -0.1)\">\n       <use xlink:href=\"#DejaVuSans-8722\"/>\n       <use x=\"83.789062\" xlink:href=\"#DejaVuSans-49\"/>\n       <use x=\"147.412109\" xlink:href=\"#DejaVuSans-53\"/>\n       <use x=\"211.035156\" xlink:href=\"#DejaVuSans-48\"/>\n       <use x=\"274.658203\" xlink:href=\"#DejaVuSans-48\"/>\n       <use x=\"338.28125\" xlink:href=\"#DejaVuSans-48\"/>\n      </g>\n     </g>\n    </g>\n    <g id=\"ytick_3\">\n     <g id=\"line2d_10\">\n      <g>\n       <use style=\"stroke:#000000;stroke-width:0.8;\" x=\"54.392188\" xlink:href=\"#mf01b1c2f92\" y=\"164.694973\"/>\n      </g>\n     </g>\n     <g id=\"text_10\">\n      <!-- −10000 -->\n      <g transform=\"translate(7.2 168.494191)scale(0.1 -0.1)\">\n       <use xlink:href=\"#DejaVuSans-8722\"/>\n       <use x=\"83.789062\" xlink:href=\"#DejaVuSans-49\"/>\n       <use x=\"147.412109\" xlink:href=\"#DejaVuSans-48\"/>\n       <use x=\"211.035156\" xlink:href=\"#DejaVuSans-48\"/>\n       <use x=\"274.658203\" xlink:href=\"#DejaVuSans-48\"/>\n       <use x=\"338.28125\" xlink:href=\"#DejaVuSans-48\"/>\n      </g>\n     </g>\n    </g>\n    <g id=\"ytick_4\">\n     <g id=\"line2d_11\">\n      <g>\n       <use style=\"stroke:#000000;stroke-width:0.8;\" x=\"54.392188\" xlink:href=\"#mf01b1c2f92\" y=\"136.305974\"/>\n      </g>\n     </g>\n     <g id=\"text_11\">\n      <!-- −5000 -->\n      <g transform=\"translate(13.5625 140.105193)scale(0.1 -0.1)\">\n       <use xlink:href=\"#DejaVuSans-8722\"/>\n       <use x=\"83.789062\" xlink:href=\"#DejaVuSans-53\"/>\n       <use x=\"147.412109\" xlink:href=\"#DejaVuSans-48\"/>\n       <use x=\"211.035156\" xlink:href=\"#DejaVuSans-48\"/>\n       <use x=\"274.658203\" xlink:href=\"#DejaVuSans-48\"/>\n      </g>\n     </g>\n    </g>\n    <g id=\"ytick_5\">\n     <g id=\"line2d_12\">\n      <g>\n       <use style=\"stroke:#000000;stroke-width:0.8;\" x=\"54.392188\" xlink:href=\"#mf01b1c2f92\" y=\"107.916976\"/>\n      </g>\n     </g>\n     <g id=\"text_12\">\n      <!-- 0 -->\n      <g transform=\"translate(41.029688 111.716195)scale(0.1 -0.1)\">\n       <use xlink:href=\"#DejaVuSans-48\"/>\n      </g>\n     </g>\n    </g>\n    <g id=\"ytick_6\">\n     <g id=\"line2d_13\">\n      <g>\n       <use style=\"stroke:#000000;stroke-width:0.8;\" x=\"54.392188\" xlink:href=\"#mf01b1c2f92\" y=\"79.527978\"/>\n      </g>\n     </g>\n     <g id=\"text_13\">\n      <!-- 5000 -->\n      <g transform=\"translate(21.942188 83.327197)scale(0.1 -0.1)\">\n       <use xlink:href=\"#DejaVuSans-53\"/>\n       <use x=\"63.623047\" xlink:href=\"#DejaVuSans-48\"/>\n       <use x=\"127.246094\" xlink:href=\"#DejaVuSans-48\"/>\n       <use x=\"190.869141\" xlink:href=\"#DejaVuSans-48\"/>\n      </g>\n     </g>\n    </g>\n    <g id=\"ytick_7\">\n     <g id=\"line2d_14\">\n      <g>\n       <use style=\"stroke:#000000;stroke-width:0.8;\" x=\"54.392188\" xlink:href=\"#mf01b1c2f92\" y=\"51.13898\"/>\n      </g>\n     </g>\n     <g id=\"text_14\">\n      <!-- 10000 -->\n      <g transform=\"translate(15.579688 54.938198)scale(0.1 -0.1)\">\n       <use xlink:href=\"#DejaVuSans-49\"/>\n       <use x=\"63.623047\" xlink:href=\"#DejaVuSans-48\"/>\n       <use x=\"127.246094\" xlink:href=\"#DejaVuSans-48\"/>\n       <use x=\"190.869141\" xlink:href=\"#DejaVuSans-48\"/>\n       <use x=\"254.492188\" xlink:href=\"#DejaVuSans-48\"/>\n      </g>\n     </g>\n    </g>\n    <g id=\"ytick_8\">\n     <g id=\"line2d_15\">\n      <g>\n       <use style=\"stroke:#000000;stroke-width:0.8;\" x=\"54.392188\" xlink:href=\"#mf01b1c2f92\" y=\"22.749981\"/>\n      </g>\n     </g>\n     <g id=\"text_15\">\n      <!-- 15000 -->\n      <g transform=\"translate(15.579688 26.5492)scale(0.1 -0.1)\">\n       <use xlink:href=\"#DejaVuSans-49\"/>\n       <use x=\"63.623047\" xlink:href=\"#DejaVuSans-53\"/>\n       <use x=\"127.246094\" xlink:href=\"#DejaVuSans-48\"/>\n       <use x=\"190.869141\" xlink:href=\"#DejaVuSans-48\"/>\n       <use x=\"254.492188\" xlink:href=\"#DejaVuSans-48\"/>\n      </g>\n     </g>\n    </g>\n   </g>\n   <g id=\"line2d_16\">\n    <defs>\n     <path d=\"M 0 3 \nC 0.795609 3 1.55874 2.683901 2.12132 2.12132 \nC 2.683901 1.55874 3 0.795609 3 0 \nC 3 -0.795609 2.683901 -1.55874 2.12132 -2.12132 \nC 1.55874 -2.683901 0.795609 -3 0 -3 \nC -0.795609 -3 -1.55874 -2.683901 -2.12132 -2.12132 \nC -2.683901 -1.55874 -3 -0.795609 -3 0 \nC -3 0.795609 -2.683901 1.55874 -2.12132 2.12132 \nC -1.55874 2.683901 -0.795609 3 0 3 \nz\n\" id=\"mc46dfc5867\" style=\"stroke:#0000ff;\"/>\n    </defs>\n    <g clip-path=\"url(#p8945977e45)\">\n     <use style=\"fill:#0000ff;stroke:#0000ff;\" x=\"109.184242\" xlink:href=\"#mc46dfc5867\" y=\"85.611569\"/>\n     <use style=\"fill:#0000ff;stroke:#0000ff;\" x=\"278.772722\" xlink:href=\"#mc46dfc5867\" y=\"120.99738\"/>\n     <use style=\"fill:#0000ff;stroke:#0000ff;\" x=\"254.578807\" xlink:href=\"#mc46dfc5867\" y=\"68.346286\"/>\n     <use style=\"fill:#0000ff;stroke:#0000ff;\" x=\"273.127113\" xlink:href=\"#mc46dfc5867\" y=\"214.756364\"/>\n     <use style=\"fill:#0000ff;stroke:#0000ff;\" x=\"373.974006\" xlink:href=\"#mc46dfc5867\" y=\"17.083636\"/>\n     <use style=\"fill:#0000ff;stroke:#0000ff;\" x=\"69.610369\" xlink:href=\"#mc46dfc5867\" y=\"70.27589\"/>\n     <use style=\"fill:#0000ff;stroke:#0000ff;\" x=\"214.236565\" xlink:href=\"#mc46dfc5867\" y=\"104.632376\"/>\n     <use style=\"fill:#0000ff;stroke:#0000ff;\" x=\"230.644978\" xlink:href=\"#mc46dfc5867\" y=\"73.601617\"/>\n    </g>\n   </g>\n   <g id=\"line2d_17\">\n    <defs>\n     <path d=\"M 0 3 \nC 0.795609 3 1.55874 2.683901 2.12132 2.12132 \nC 2.683901 1.55874 3 0.795609 3 0 \nC 3 -0.795609 2.683901 -1.55874 2.12132 -2.12132 \nC 1.55874 -2.683901 0.795609 -3 0 -3 \nC -0.795609 -3 -1.55874 -2.683901 -2.12132 -2.12132 \nC -2.683901 -1.55874 -3 -0.795609 -3 0 \nC -3 0.795609 -2.683901 1.55874 -2.12132 2.12132 \nC -1.55874 2.683901 -0.795609 3 0 3 \nz\n\" id=\"mb121587b49\" style=\"stroke:#ff0000;\"/>\n    </defs>\n    <g clip-path=\"url(#p8945977e45)\">\n     <use style=\"fill:#ff0000;stroke:#ff0000;\" x=\"263.835809\" xlink:href=\"#mb121587b49\" y=\"108.682604\"/>\n     <use style=\"fill:#ff0000;stroke:#ff0000;\" x=\"254.443039\" xlink:href=\"#mb121587b49\" y=\"104.787277\"/>\n     <use style=\"fill:#ff0000;stroke:#ff0000;\" x=\"263.544433\" xlink:href=\"#mb121587b49\" y=\"107.480956\"/>\n     <use style=\"fill:#ff0000;stroke:#ff0000;\" x=\"263.537368\" xlink:href=\"#mb121587b49\" y=\"107.761086\"/>\n     <use style=\"fill:#ff0000;stroke:#ff0000;\" x=\"263.67054\" xlink:href=\"#mb121587b49\" y=\"107.902141\"/>\n     <use style=\"fill:#ff0000;stroke:#ff0000;\" x=\"263.775902\" xlink:href=\"#mb121587b49\" y=\"107.305001\"/>\n     <use style=\"fill:#ff0000;stroke:#ff0000;\" x=\"264.172613\" xlink:href=\"#mb121587b49\" y=\"99.663965\"/>\n     <use style=\"fill:#ff0000;stroke:#ff0000;\" x=\"262.801118\" xlink:href=\"#mb121587b49\" y=\"107.445865\"/>\n    </g>\n   </g>\n   <g id=\"patch_3\">\n    <path d=\"M 54.392188 224.64 \nL 54.392188 7.2 \n\" style=\"fill:none;stroke:#000000;stroke-linecap:square;stroke-linejoin:miter;stroke-width:0.8;\"/>\n   </g>\n   <g id=\"patch_4\">\n    <path d=\"M 389.192187 224.64 \nL 389.192187 7.2 \n\" style=\"fill:none;stroke:#000000;stroke-linecap:square;stroke-linejoin:miter;stroke-width:0.8;\"/>\n   </g>\n   <g id=\"patch_5\">\n    <path d=\"M 54.392188 224.64 \nL 389.192187 224.64 \n\" style=\"fill:none;stroke:#000000;stroke-linecap:square;stroke-linejoin:miter;stroke-width:0.8;\"/>\n   </g>\n   <g id=\"patch_6\">\n    <path d=\"M 54.392188 7.2 \nL 389.192187 7.2 \n\" style=\"fill:none;stroke:#000000;stroke-linecap:square;stroke-linejoin:miter;stroke-width:0.8;\"/>\n   </g>\n  </g>\n </g>\n <defs>\n  <clipPath id=\"p8945977e45\">\n   <rect height=\"217.44\" width=\"334.8\" x=\"54.392188\" y=\"7.2\"/>\n  </clipPath>\n </defs>\n</svg>\n",
      "text/plain": "<Figure size 432x288 with 1 Axes>"
     },
     "metadata": {
      "needs_background": "light"
     },
     "output_type": "display_data"
    }
   ],
   "source": [
    "plt.plot(ones_1p, ones_2p, 'o', color='blue')\n",
    "plt.plot(sevens_1p, sevens_2p, 'o', color='red')"
   ]
  },
  {
   "cell_type": "code",
   "execution_count": null,
   "metadata": {},
   "outputs": [],
   "source": []
  },
  {
   "cell_type": "code",
   "execution_count": null,
   "metadata": {},
   "outputs": [],
   "source": []
  },
  {
   "cell_type": "code",
   "execution_count": null,
   "metadata": {},
   "outputs": [],
   "source": []
  },
  {
   "cell_type": "code",
   "execution_count": null,
   "metadata": {},
   "outputs": [],
   "source": []
  },
  {
   "cell_type": "code",
   "execution_count": null,
   "metadata": {},
   "outputs": [],
   "source": []
  },
  {
   "cell_type": "code",
   "execution_count": null,
   "metadata": {},
   "outputs": [],
   "source": []
  },
  {
   "cell_type": "code",
   "execution_count": null,
   "metadata": {},
   "outputs": [],
   "source": []
  },
  {
   "cell_type": "code",
   "execution_count": null,
   "metadata": {},
   "outputs": [],
   "source": []
  },
  {
   "cell_type": "code",
   "execution_count": null,
   "metadata": {},
   "outputs": [],
   "source": []
  },
  {
   "cell_type": "code",
   "execution_count": null,
   "metadata": {},
   "outputs": [],
   "source": []
  },
  {
   "cell_type": "code",
   "execution_count": 0,
   "metadata": {},
   "outputs": [],
   "source": [
    "\n",
    "\n",
    "\n",
    "\n",
    "\n",
    "\n",
    "\n",
    "\n",
    "\n",
    "\n",
    "\n",
    "\n",
    "\n",
    "\n",
    "\n",
    "\n",
    "\n",
    "\n",
    "\n",
    "\n",
    "\n",
    "\n",
    "\n",
    "\n",
    "\n",
    "\n",
    "\n",
    "\n",
    "\n",
    "\n",
    "\n",
    "\n",
    "\n",
    "\n",
    "\n",
    "\n",
    "\n",
    "\n",
    "\n",
    "\n",
    "\n",
    "\n",
    "\n",
    "\n",
    "\n",
    "\n",
    "\n",
    "\n",
    "\n",
    "\n",
    "\n",
    "\n",
    "\n",
    "\n",
    "\n",
    "\n",
    "\n",
    "\n",
    "\n",
    "\n",
    "\n",
    "\n",
    "\n",
    "\n",
    "\n",
    "\n",
    "\n",
    "\n",
    "\n",
    "\n",
    "\n",
    "\n",
    "\n",
    "\n",
    "\n",
    "\n",
    "\n",
    "\n",
    "\n",
    "\n",
    "\n",
    "\n",
    "\n",
    "\n",
    "\n",
    "\n",
    "\n",
    "\n",
    "\n",
    "\n",
    "\n",
    "\n",
    "\n",
    "\n",
    "\n",
    "\n",
    "\n",
    "\n",
    "\n",
    "\n",
    "\n",
    "\n"
   ]
  }
 ]
}